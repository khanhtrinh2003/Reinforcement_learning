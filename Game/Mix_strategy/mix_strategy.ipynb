{
 "cells": [
  {
   "cell_type": "code",
   "execution_count": 2,
   "metadata": {},
   "outputs": [
    {
     "name": "stdout",
     "output_type": "stream",
     "text": [
      "Chiến lược của người 1:[0.5 0.  0.5]\n",
      "Chiến lược của người 2:[0.  0.6 0.4],\n",
      "Kỳ vọng của người 1: [0.],\n",
      "Kỳ vọng của người 2: [0.]\n"
     ]
    }
   ],
   "source": [
    "import numpy as np\n",
    "from scipy.optimize import linprog\n",
    "\n",
    "def find_mix_strategy(payoff1, payoff2):\n",
    "    payoff11 = [i + [0]*len(payoff2) +[-1,0] for i in payoff1]\n",
    "    payoff21 = [[0]*len(payoff1) +i + [0,-1] for i in payoff2]\n",
    "    t=payoff11+payoff21\n",
    "    A_ub = np.array(t)\n",
    "    b_ub = np.zeros(len(t))\n",
    "    \n",
    "    e = [[1]*len(payoff1) + [0]*len(payoff2) +[0,0]] + [[0]*len(payoff1) +[1]*len(payoff2) + [0,0]]\n",
    "    A_eq = np.array(e)\n",
    "    b_eq = np.ones(2)\n",
    "    c = np.array([0] * len(t) + [1,1])\n",
    "    res = linprog(c, A_ub=A_ub, b_ub=b_ub,bounds=(0, None), A_eq=A_eq,b_eq=b_eq)\n",
    "    return f\"Chiến lược của người 1:{res.x[len(payoff1):len(payoff1)+len(payoff2)]}\\nChiến lược của người 2:{res.x[:len(payoff1)]},\\nKỳ vọng của người 1: {res.x[len(payoff1)+len(payoff2):len(payoff1)+len(payoff2)+1]},\\nKỳ vọng của người 2: {res.x[len(payoff1)+len(payoff2)+1:len(payoff1)+len(payoff2)+2]}\"\n",
    "\n",
    "payoff1 = [[1,-2,-3],[-1,2,-3],[-1,-2,3]]\n",
    "payoff2 = [[1,-1,-1],[-2,2,-2],[-3,-3,3]]\n",
    "print(find_mix_strategy(payoff1,payoff2))"
   ]
  },
  {
   "cell_type": "code",
   "execution_count": 58,
   "metadata": {},
   "outputs": [],
   "source": [
    "from numpy.random import random\n",
    "from random import randint, choices\n",
    "#epsilon greedy strategy the agent visit new states with epsilon probability\n",
    "EPSILON = 0.1\n",
    "#number of bandits\n",
    "BANDITS = 10\n",
    "#number of iterations.\n",
    "EPISODES = 100000\n",
    "\n",
    "payoff = [[-9,-1],[0,-6]]"
   ]
  },
  {
   "cell_type": "code",
   "execution_count": 56,
   "metadata": {},
   "outputs": [],
   "source": [
    "class Bandit():\n",
    "    def __init__(self, probability, n2):\n",
    "        # Qk(a) stores the mean of rewards\n",
    "        self.q = 0\n",
    "        #k means how many times action a (so the bandit) was chosen in the past\n",
    "        self.k = 0\n",
    "        # probability distribution\n",
    "        self.probability = probability\n",
    "        self.n2 = n2\n",
    "\n",
    "    def get_reward(self):\n",
    "        nam = choices([0,1], weights=[self.n2,1-self.n2], k=1)[0]\n",
    "        if random() < self.probability:\n",
    "            return payoff[0][nam]\n",
    "        else:\n",
    "            return payoff[1][nam]\n",
    "\n",
    "class NArmedBandit():\n",
    "    def __init__(self,n2):\n",
    "        self.best = []\n",
    "        self.bandits = []\n",
    "        self.n2 = n2\n",
    "        self.l = [i/10 for i in range(10)]\n",
    "        for i in self.l:\n",
    "            self.bandits.append(Bandit(i,self.n2))\n",
    "\n",
    "    def run(self):\n",
    "        for i in range(EPISODES):\n",
    "            bandit = self.bandits[self.select_bandit()]\n",
    "            reward = bandit.get_reward()\n",
    "            self.update(bandit, reward)\n",
    "            # print(f'Iteration {i}, bandit {bandit.probability} with Q value {bandit.q}')        \n",
    "\n",
    "    def select_bandit(self):\n",
    "        # this is the epsilon-greedy strategy\n",
    "        # with epsilon probability the agent explore otherwise it exploits\n",
    "        if random() < EPSILON:\n",
    "            bandit_index = randint(0, BANDITS - 1)\n",
    "        else:\n",
    "            bandit_index = self.get_bandit_max_q()\n",
    "        return bandit_index\n",
    "    \n",
    "    def update (self, bandit, reward):\n",
    "        bandit.k = bandit.k + 1\n",
    "        bandit.q = bandit.q + (1 / (1 + bandit.k))* (reward - bandit.q)    \n",
    "\n",
    "    def get_bandit_max_q(self):\n",
    "        # we find the bandit with max Q(a) value for the greedy exploitation\n",
    "        # we need the index of the bandit with max Q(a)\n",
    "        max_q_bandit_index = 0\n",
    "        max_q = self.bandits[max_q_bandit_index].q\n",
    "        for i in range (1, BANDITS):\n",
    "            if self.bandits[i].q> max_q:\n",
    "                max_q = self.bandits[i].q\n",
    "                max_q_bandit_index = i\n",
    "        return max_q_bandit_index        \n",
    "\n",
    "    #show statistics: how many times the given bandit was chosen\n",
    "    def show_statistics(self):\n",
    "        for i in range (BANDITS):\n",
    "            self.best.append(self.bandits[i].k)\n",
    "            print(f'Strategy {i} with k: {self.bandits[i].k}')   \n",
    "    \n",
    "    def best_stra(self):\n",
    "        for i in range (BANDITS):\n",
    "            self.best.append(self.bandits[i].k)\n",
    "        print(f'Best prob is {self.l[self.best.index(max(self.best))]}')\n",
    "        "
   ]
  },
  {
   "cell_type": "code",
   "execution_count": 60,
   "metadata": {},
   "outputs": [
    {
     "name": "stdout",
     "output_type": "stream",
     "text": [
      "Strategy 0 with k: 91062\n",
      "Strategy 1 with k: 946\n",
      "Strategy 2 with k: 981\n",
      "Strategy 3 with k: 988\n",
      "Strategy 4 with k: 999\n",
      "Strategy 5 with k: 1017\n",
      "Strategy 6 with k: 1010\n",
      "Strategy 7 with k: 984\n",
      "Strategy 8 with k: 1033\n",
      "Strategy 9 with k: 980\n",
      "Best prob is 0.0\n"
     ]
    }
   ],
   "source": [
    "a=NArmedBandit(1)\n",
    "a.run()\n",
    "a.show_statistics()\n",
    "a.best_stra()"
   ]
  }
 ],
 "metadata": {
  "kernelspec": {
   "display_name": "Python 3",
   "language": "python",
   "name": "python3"
  },
  "language_info": {
   "codemirror_mode": {
    "name": "ipython",
    "version": 3
   },
   "file_extension": ".py",
   "mimetype": "text/x-python",
   "name": "python",
   "nbconvert_exporter": "python",
   "pygments_lexer": "ipython3",
   "version": "3.10.9"
  },
  "orig_nbformat": 4,
  "vscode": {
   "interpreter": {
    "hash": "a42ccb73e7d9bfdf27e036f1d2b8b681e55fc0743cc5586bc2474d4a60f4b886"
   }
  }
 },
 "nbformat": 4,
 "nbformat_minor": 2
}
