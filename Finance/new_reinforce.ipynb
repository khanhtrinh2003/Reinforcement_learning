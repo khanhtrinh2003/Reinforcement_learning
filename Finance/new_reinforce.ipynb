{
 "cells": [
  {
   "cell_type": "code",
   "execution_count": 2,
   "metadata": {},
   "outputs": [],
   "source": [
    "import keras\n",
    "from keras.models import Sequential\n",
    "from keras.models import load_model\n",
    "from keras.layers import Dense\n",
    "from keras.optimizers import Adam\n",
    "\n",
    "import numpy as np\n",
    "import random\n",
    "from collections import deque\n",
    "\n",
    "class Agent:\n",
    "\tdef __init__(self, state_size, is_eval=False, model_name=\"\"):\n",
    "\t\tself.state_size = state_size # normalized previous days\n",
    "\t\tself.action_size = 3 # sit, buy, sell\n",
    "\t\tself.memory = deque(maxlen=1000)\n",
    "\t\tself.inventory = []\n",
    "\t\tself.model_name = model_name\n",
    "\t\tself.is_eval = is_eval\n",
    "\n",
    "\t\tself.gamma = 0.95\n",
    "\t\tself.epsilon = 1.0\n",
    "\t\tself.epsilon_min = 0.01\n",
    "\t\tself.epsilon_decay = 0.995\n",
    "\n",
    "\t\tself.model = load_model(\"models/\" + model_name) if is_eval else self._model()\n",
    "\n",
    "\tdef _model(self):\n",
    "\t\tmodel = Sequential()\n",
    "\t\tmodel.add(Dense(units=64, input_dim=self.state_size, activation=\"relu\"))\n",
    "\t\tmodel.add(Dense(units=32, activation=\"relu\"))\n",
    "\t\tmodel.add(Dense(units=8, activation=\"relu\"))\n",
    "\t\tmodel.add(Dense(self.action_size, activation=\"linear\"))\n",
    "\t\tmodel.compile(loss=\"mse\", optimizer=Adam(lr=0.001))\n",
    "\n",
    "\t\treturn model\n",
    "\n",
    "\tdef act(self, state):\n",
    "\t\tif not self.is_eval and random.random() <= self.epsilon:\n",
    "\t\t\treturn random.randrange(self.action_size)\n",
    "\n",
    "\t\toptions = self.model.predict(state)\n",
    "\t\treturn np.argmax(options[0])\n",
    "\n",
    "\tdef expReplay(self, batch_size):\n",
    "\t\tmini_batch = []\n",
    "\t\tl = len(self.memory)\n",
    "\t\tfor i in range(l - batch_size + 1, l):\n",
    "\t\t\tmini_batch.append(self.memory[i])\n",
    "\n",
    "\t\tfor state, action, reward, next_state, done in mini_batch:\n",
    "\t\t\ttarget = reward\n",
    "\t\t\tif not done:\n",
    "\t\t\t\ttarget = reward + self.gamma * np.amax(self.model.predict(next_state)[0])\n",
    "\n",
    "\t\t\ttarget_f = self.model.predict(state)\n",
    "\t\t\ttarget_f[0][action] = target\n",
    "\t\t\tself.model.fit(state, target_f, epochs=1, verbose=0)\n",
    "\n",
    "\t\tif self.epsilon > self.epsilon_min:\n",
    "\t\t\tself.epsilon *= self.epsilon_decay "
   ]
  },
  {
   "cell_type": "code",
   "execution_count": null,
   "metadata": {},
   "outputs": [],
   "source": []
  }
 ],
 "metadata": {
  "kernelspec": {
   "display_name": "Python 3",
   "language": "python",
   "name": "python3"
  },
  "language_info": {
   "codemirror_mode": {
    "name": "ipython",
    "version": 3
   },
   "file_extension": ".py",
   "mimetype": "text/x-python",
   "name": "python",
   "nbconvert_exporter": "python",
   "pygments_lexer": "ipython3",
   "version": "3.10.9"
  },
  "vscode": {
   "interpreter": {
    "hash": "a42ccb73e7d9bfdf27e036f1d2b8b681e55fc0743cc5586bc2474d4a60f4b886"
   }
  }
 },
 "nbformat": 4,
 "nbformat_minor": 2
}
